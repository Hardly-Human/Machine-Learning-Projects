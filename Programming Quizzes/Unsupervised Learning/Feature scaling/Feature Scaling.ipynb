{
 "cells": [
  {
   "cell_type": "markdown",
   "metadata": {},
   "source": [
    "# Feature Scaling Formula\n",
    "`X' = (X - X_min) / (X_max - X_min)`"
   ]
  },
  {
   "cell_type": "code",
   "execution_count": 6,
   "metadata": {},
   "outputs": [
    {
     "name": "stdout",
     "output_type": "stream",
     "text": [
      "[0.0, 0.4166666666666667, 1.0]\n"
     ]
    }
   ],
   "source": [
    "\"\"\" quiz materials for feature scaling clustering \"\"\"\n",
    "\n",
    "### FYI, the most straightforward implementation might \n",
    "### throw a divide-by-zero error, if the min and max\n",
    "### values are the same\n",
    "### but think about this for a second--that means that every\n",
    "### data point has the same value for that feature!  \n",
    "### why would you rescale it?  Or even use it at all?\n",
    "def featureScaling(arr):\n",
    "    x = []\n",
    "    for i in arr:\n",
    "        a = (i - min(arr)) / (max(arr) - min(arr))\n",
    "        x.append(a)\n",
    "    return x\n",
    "\n",
    "# tests of your feature scaler--line below is input data\n",
    "data = [115, 140, 175]\n",
    "print(featureScaling(data))"
   ]
  },
  {
   "cell_type": "markdown",
   "metadata": {},
   "source": [
    "# Feature Scaling in sklearn"
   ]
  },
  {
   "cell_type": "code",
   "execution_count": 8,
   "metadata": {},
   "outputs": [],
   "source": [
    "import numpy as np\n",
    "from sklearn.preprocessing import MinMaxScaler"
   ]
  },
  {
   "cell_type": "code",
   "execution_count": 10,
   "metadata": {},
   "outputs": [
    {
     "data": {
      "text/plain": [
       "array([[115],\n",
       "       [140],\n",
       "       [175]])"
      ]
     },
     "execution_count": 10,
     "metadata": {},
     "output_type": "execute_result"
    }
   ],
   "source": [
    "weights = np.array([[115],[140],[175]])\n",
    "weights"
   ]
  },
  {
   "cell_type": "code",
   "execution_count": 11,
   "metadata": {},
   "outputs": [],
   "source": [
    "scaler = MinMaxScaler()"
   ]
  },
  {
   "cell_type": "code",
   "execution_count": 13,
   "metadata": {},
   "outputs": [
    {
     "data": {
      "text/plain": [
       "array([[0.        ],\n",
       "       [0.41666667],\n",
       "       [1.        ]])"
      ]
     },
     "execution_count": 13,
     "metadata": {},
     "output_type": "execute_result"
    }
   ],
   "source": [
    "rescaled_weight = scaler.fit_transform(weights)\n",
    "rescaled_weight"
   ]
  },
  {
   "cell_type": "code",
   "execution_count": null,
   "metadata": {},
   "outputs": [],
   "source": []
  }
 ],
 "metadata": {
  "kernelspec": {
   "display_name": "Python 3",
   "language": "python",
   "name": "python3"
  },
  "language_info": {
   "codemirror_mode": {
    "name": "ipython",
    "version": 3
   },
   "file_extension": ".py",
   "mimetype": "text/x-python",
   "name": "python",
   "nbconvert_exporter": "python",
   "pygments_lexer": "ipython3",
   "version": "3.7.7"
  }
 },
 "nbformat": 4,
 "nbformat_minor": 4
}
